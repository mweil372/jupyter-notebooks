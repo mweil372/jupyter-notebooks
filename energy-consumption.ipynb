{
 "cells": [
  {
   "cell_type": "markdown",
   "metadata": {},
   "source": [
    "# Energy consumption"
   ]
  },
  {
   "cell_type": "code",
   "execution_count": 1,
   "metadata": {},
   "outputs": [],
   "source": [
    "# import required libraries pandas, numpy, matplotlib, seaborn, datetime\n",
    "from __future__ import print_function\n",
    "\n",
    "import os.path\n",
    "\n",
    "#from google.auth.transport.requests import Request\n",
    "#from google.oauth2.credentials import Credentials\n",
    "#from google_auth_oauthlib.flow import InstalledAppFlow\n",
    "#from googleapiclient.discovery import build\n",
    "#from googleapiclient.errors import HttpError\n",
    "\n",
    "import pandas as pd\n",
    "import numpy as np\n",
    "import matplotlib.pyplot as plt\n",
    "import seaborn as sns\n",
    "import datetime\n",
    "import quickstart as qs\n",
    "#from oauth2client.service_account import ServiceAccountCredentials\n",
    "\n"
   ]
  },
  {
   "cell_type": "code",
   "execution_count": 2,
   "metadata": {},
   "outputs": [],
   "source": [
    "# get a list of values for power, water and oil consumption from google sheets\n",
    "values = qs.google_read_energy_power()\n",
    "#convert list of values to pandas dataframe; first row is the header\n",
    "df = pd.DataFrame(values[1:], columns=values[0])\n",
    "# print type of values\n",
    "#print(values)\n",
    "\n",
    "\n",
    "\n"
   ]
  },
  {
   "cell_type": "code",
   "execution_count": null,
   "metadata": {},
   "outputs": [],
   "source": []
  }
 ],
 "metadata": {
  "interpreter": {
   "hash": "31f2aee4e71d21fbe5cf8b01ff0e069b9275f58929596ceb00d14d90e3e16cd6"
  },
  "kernelspec": {
   "display_name": "Python 3.8.9 64-bit",
   "language": "python",
   "name": "python3"
  },
  "language_info": {
   "codemirror_mode": {
    "name": "ipython",
    "version": 3
   },
   "file_extension": ".py",
   "mimetype": "text/x-python",
   "name": "python",
   "nbconvert_exporter": "python",
   "pygments_lexer": "ipython3",
   "version": "3.8.9"
  },
  "orig_nbformat": 4
 },
 "nbformat": 4,
 "nbformat_minor": 2
}
