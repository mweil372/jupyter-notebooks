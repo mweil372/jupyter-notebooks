{
 "cells": [
  {
   "attachments": {},
   "cell_type": "markdown",
   "metadata": {},
   "source": [
    "# KM.ON Atlassian Access Management\n",
    "This program takes input from several sources (Atlassian, HR, others) and creates reports out of it.\n",
    "These reports help to stay up-to-date in terms of valid access to our tools in the Atlassian suite."
   ]
  },
  {
   "cell_type": "code",
   "execution_count": 1,
   "metadata": {},
   "outputs": [
    {
     "name": "stdout",
     "output_type": "stream",
     "text": [
      "Vaibhav Dixit\n",
      "Vaibhav Dixit\n",
      "Vaibhav Dixit\n",
      "Tuerkkol, Burcu\n",
      "Tuerkkol, Burcu\n",
      "Uwe Bradl\n",
      "Uwe Bradl\n",
      "Esraa.Alshraiedeh\n",
      "Esraa.Alshraiedeh\n",
      "Esraa.Alshraiedeh\n",
      "Esraa.Alshraiedeh\n",
      "Kevin Socha\n",
      "Markus Bahde\n",
      "Markus Bahde\n",
      "Markus Bahde\n",
      "Ingo Kunz\n",
      "Knut Wantzen\n",
      "Andreas Kiesel\n",
      "Andreas Kiesel\n",
      "Estibaliz Mart√≠nez\n",
      "angus.krawczynski\n",
      "Oliver Alt\n",
      "Oliver Alt\n",
      "Oliver Alt\n",
      "a.godoy\n",
      "Goran Sidjimovski\n",
      "Goran Sidjimovski\n",
      "Andreas Sturm\n",
      "Andreas Sturm\n",
      "Marcel Scherf\n",
      "Marcel Scherf\n",
      "Jonas Deboy\n",
      "Rahul Agarwal\n",
      "Rahul Agarwal\n",
      "Montse Bassas Cordoba\n",
      "Philipp Erler\n",
      "Philipp Erler\n",
      "Patrick Hoef\n",
      "Patrick Hoef\n",
      "Alvaro Camacho Davila\n",
      "Ian Yang\n",
      "Ian Yang\n",
      "Ian Yang\n",
      "Damian Dziedzioch\n"
     ]
    }
   ],
   "source": [
    "import pandas as pd\n",
    "from datetime import datetime, timedelta\n",
    "\n",
    "def read_excel_to_df(file_path, sheet_name=0):\n",
    "    \"\"\"\n",
    "    This function reads an Excel file and returns a DataFrame.\n",
    "    \"\"\"\n",
    "    df = pd.read_excel(file_path, sheet_name=sheet_name)\n",
    "    return df\n",
    "\n",
    "def filter_last_seen(df):\n",
    "    \"\"\"\n",
    "    This function filters for all users where the date in all columns\n",
    "    that starts with \"Last seen\" is older than half a year or \"Never accessed\".\n",
    "    \"\"\"\n",
    "    half_year_ago = datetime.now() - timedelta(days=60)\n",
    "\n",
    "    # Loop over all columns that start with \"Last seen\"\n",
    "    last_seen_columns = [col for col in df.columns if col.startswith(\"Last seen\")]\n",
    "\n",
    "    for col in last_seen_columns:\n",
    "        # Convert the date strings in the column to datetime objects, \n",
    "        # if the string is not \"Never accessed\"\n",
    "        df[col] = df[col].apply(lambda x: pd.to_datetime(x, format=\"%Y-%m-%d 00:00:00\") if x != \"Never accessed\" else x)\n",
    "\n",
    "    # Apply the filter\n",
    "    filtered_df = df[df[last_seen_columns].apply(lambda row: all((isinstance(date, str) and date == \"Never accessed\") or date < half_year_ago for date in row), axis=1)]\n",
    "\n",
    "    return filtered_df\n",
    "\n",
    "# Use the functions\n",
    "file_path = \"kmon.atlassian.access.management.xlsx\"\n",
    "\n",
    "df = read_excel_to_df(file_path)\n",
    "filtered_df = filter_last_seen(df)\n",
    "\n",
    "# Now you can start your analysis on the DataFrame filtered_df\n",
    "user_names = filtered_df['User name'].to_list()\n",
    "\n",
    "# Print the list of user names\n",
    "for name in user_names:\n",
    "    print(name)\n"
   ]
  }
 ],
 "metadata": {
  "kernelspec": {
   "display_name": ".venv",
   "language": "python",
   "name": "python3"
  },
  "language_info": {
   "codemirror_mode": {
    "name": "ipython",
    "version": 3
   },
   "file_extension": ".py",
   "mimetype": "text/x-python",
   "name": "python",
   "nbconvert_exporter": "python",
   "pygments_lexer": "ipython3",
   "version": "3.9.6"
  },
  "orig_nbformat": 4
 },
 "nbformat": 4,
 "nbformat_minor": 2
}
