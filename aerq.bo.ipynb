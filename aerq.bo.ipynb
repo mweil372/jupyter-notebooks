{
 "cells": [
  {
   "cell_type": "code",
   "execution_count": 4,
   "metadata": {
    "jupyter": {
     "source_hidden": true
    }
   },
   "outputs": [],
   "source": [
    "%matplotlib inline\n",
    "\n",
    "# define relevant packages; among others: JIRA API\n",
    "import pandas as pd\n",
    "import numpy as np\n",
    "from jira import JIRA \n",
    "import matplotlib.pyplot as plt\n",
    "import mwtools as mt\n",
    "\n",
    "import seaborn as sns\n"
   ]
  },
  {
   "cell_type": "markdown",
   "metadata": {},
   "source": [
    "# ToDos\n",
    "- [ ] create filters and apply them to a dataframe wo/changing the dataframe itself \n",
    "\n",
    "/Example:/\n",
    "```\n",
    "price_filter = df.loc[:, 'price'] <= 3000000\n",
    "df.loc[price_filter, 'price'].hist(bins = 30)\n",
    "```\n",
    "- [ ] measure balance sheet for provided hours and billed hours"
   ]
  },
  {
   "cell_type": "markdown",
   "metadata": {},
   "source": [
    " # AERQ Business Owner Reporting Notebook"
   ]
  },
  {
   "cell_type": "markdown",
   "metadata": {},
   "source": [
    " ## CMS related reports"
   ]
  },
  {
   "cell_type": "markdown",
   "metadata": {},
   "source": [
    "### Procon hours"
   ]
  },
  {
   "cell_type": "markdown",
   "metadata": {},
   "source": [
    "#### Monthly booked hours in a table\n",
    "\n",
    "---\n",
    "** Attention: currently, the below figures come from a test excel sheet only! **\n",
    "** They do currently not reflect any real spent CMS effort **\n",
    "\n",
    "---"
   ]
  },
  {
   "cell_type": "code",
   "execution_count": 2,
   "metadata": {},
   "outputs": [
    {
     "data": {
      "text/plain": [
       "(701, 12)"
      ]
     },
     "execution_count": 2,
     "metadata": {},
     "output_type": "execute_result"
    }
   ],
   "source": [
    "df_procon = pd.read_excel('./AERQ.commercials.overview.xlsx', sheet_name='Procon LTE Data', usecols=\"A:L\")\n",
    "df_procon.shape"
   ]
  },
  {
   "cell_type": "code",
   "execution_count": 3,
   "metadata": {},
   "outputs": [
    {
     "name": "stdout",
     "output_type": "stream",
     "text": [
      "Applications & Services BUD                         126\n",
      "Planning & Alignment BUD                            104\n",
      "AERQ ModServer                                       88\n",
      "AERQ Consulting                                      88\n",
      "AERQ SW Architect & Deploy FRA                       76\n",
      "AERQ OpsUI BUD                                       63\n",
      "AERQ Product                                         50\n",
      "AERQ Sales Support                                   41\n",
      "AERQ SW Architect & Deploy BUD Jun                   21\n",
      "AERQ Virtual Aircraft                                13\n",
      "AERQ SW Architect & Deploy BUD Prof                  10\n",
      "AERQ SW Architect & Deploy BUD Sen                    7\n",
      "RFC BC Core Mod Experte                               5\n",
      "Quality Mgnmtt, Integration & System Testing BUD      3\n",
      "AERQ CoTo-OpsUI BUD                                   3\n",
      "RFC BC Core Mod Sen Entw                              2\n",
      "Core BUD                                              1\n",
      "Name: LE-Bezeichnung, dtype: int64\n"
     ]
    },
    {
     "data": {
      "text/plain": [
       "(701,)"
      ]
     },
     "execution_count": 3,
     "metadata": {},
     "output_type": "execute_result"
    }
   ],
   "source": [
    "print (df_procon['LE-Bezeichnung'].value_counts())\n",
    "#from all Procon LEs, filter the CMS entries only\n",
    "#cms_filter = df_procon['LE-Bezeichnung'] == 'AERQ Product'\n",
    "cms_filter = (df_procon['LE-Bezeichnung'] == 'Quality Mgnmtt, Integration & System Testing BUD') | (df_procon['LE-Bezeichnung'] == 'Planning & Alignment BUD') | (df_procon['LE-Bezeichnung'] == 'Applications & Services BUD') | (df_procon['LE-Bezeichnung'] == 'Core BUD')\n",
    "# and check, how many entries are affected\n",
    "cms_filter.shape\n"
   ]
  },
  {
   "cell_type": "code",
   "execution_count": 4,
   "metadata": {},
   "outputs": [
    {
     "name": "stdout",
     "output_type": "stream",
     "text": [
      "9 colleagues have booked a total of Stunden    5597.88\n",
      "dtype: float64\n"
     ]
    },
    {
     "data": {
      "text/html": [
       "<div>\n",
       "<style scoped>\n",
       "    .dataframe tbody tr th:only-of-type {\n",
       "        vertical-align: middle;\n",
       "    }\n",
       "\n",
       "    .dataframe tbody tr th {\n",
       "        vertical-align: top;\n",
       "    }\n",
       "\n",
       "    .dataframe thead th {\n",
       "        text-align: right;\n",
       "    }\n",
       "</style>\n",
       "<table border=\"1\" class=\"dataframe\">\n",
       "  <thead>\n",
       "    <tr style=\"text-align: right;\">\n",
       "      <th></th>\n",
       "      <th></th>\n",
       "      <th>Stunden</th>\n",
       "    </tr>\n",
       "    <tr>\n",
       "      <th>Export-Datum</th>\n",
       "      <th>Mitarbeiter-Name</th>\n",
       "      <th></th>\n",
       "    </tr>\n",
       "  </thead>\n",
       "  <tbody>\n",
       "    <tr>\n",
       "      <th rowspan=\"5\" valign=\"top\">2021-01-27</th>\n",
       "      <th>Antal, Peter</th>\n",
       "      <td>77.50</td>\n",
       "    </tr>\n",
       "    <tr>\n",
       "      <th>Banhidy, Attila</th>\n",
       "      <td>35.95</td>\n",
       "    </tr>\n",
       "    <tr>\n",
       "      <th>Hato, Beata</th>\n",
       "      <td>120.60</td>\n",
       "    </tr>\n",
       "    <tr>\n",
       "      <th>Kemeny, Viktor</th>\n",
       "      <td>105.50</td>\n",
       "    </tr>\n",
       "    <tr>\n",
       "      <th>Kis, Norbert</th>\n",
       "      <td>105.00</td>\n",
       "    </tr>\n",
       "    <tr>\n",
       "      <th>...</th>\n",
       "      <th>...</th>\n",
       "      <td>...</td>\n",
       "    </tr>\n",
       "    <tr>\n",
       "      <th rowspan=\"5\" valign=\"top\">2021-10-27</th>\n",
       "      <th>Hato, Beata</th>\n",
       "      <td>48.00</td>\n",
       "    </tr>\n",
       "    <tr>\n",
       "      <th>Kemeny, Viktor</th>\n",
       "      <td>83.55</td>\n",
       "    </tr>\n",
       "    <tr>\n",
       "      <th>Kis, Norbert</th>\n",
       "      <td>30.00</td>\n",
       "    </tr>\n",
       "    <tr>\n",
       "      <th>Nagy, Laszlo</th>\n",
       "      <td>145.00</td>\n",
       "    </tr>\n",
       "    <tr>\n",
       "      <th>Rozsas, Gergely</th>\n",
       "      <td>21.00</td>\n",
       "    </tr>\n",
       "  </tbody>\n",
       "</table>\n",
       "<p>85 rows × 1 columns</p>\n",
       "</div>"
      ],
      "text/plain": [
       "                               Stunden\n",
       "Export-Datum Mitarbeiter-Name         \n",
       "2021-01-27   Antal, Peter        77.50\n",
       "             Banhidy, Attila     35.95\n",
       "             Hato, Beata        120.60\n",
       "             Kemeny, Viktor     105.50\n",
       "             Kis, Norbert       105.00\n",
       "...                                ...\n",
       "2021-10-27   Hato, Beata         48.00\n",
       "             Kemeny, Viktor      83.55\n",
       "             Kis, Norbert        30.00\n",
       "             Nagy, Laszlo       145.00\n",
       "             Rozsas, Gergely     21.00\n",
       "\n",
       "[85 rows x 1 columns]"
      ]
     },
     "execution_count": 4,
     "metadata": {},
     "output_type": "execute_result"
    }
   ],
   "source": [
    "# get the number of employees that have booked hours for the filtered Procon LE\n",
    "no_staff = len(df_procon.loc[cms_filter, ['Mitarbeiter-Name']].value_counts())\n",
    "# sum up the booked hours and print 'em out\n",
    "no_hours = df_procon.loc[cms_filter, ['Stunden']].sum()\n",
    "print(str(no_staff)+' colleagues have booked a total of '+str(no_hours))\n",
    "df_procon.loc[cms_filter, :].groupby(by=['Export-Datum', 'Mitarbeiter-Name'])[['Stunden']].sum()"
   ]
  },
  {
   "cell_type": "code",
   "execution_count": 5,
   "metadata": {},
   "outputs": [
    {
     "name": "stdout",
     "output_type": "stream",
     "text": [
      "0.00     52\n",
      "1.00     38\n",
      "2.00     37\n",
      "4.00     27\n",
      "1.50     23\n",
      "         ..\n",
      "26.40     1\n",
      "12.75     1\n",
      "66.00     1\n",
      "50.95     1\n",
      "9.25      1\n",
      "Name: Stunden, Length: 249, dtype: int64\n"
     ]
    }
   ],
   "source": [
    "print (df_procon['Stunden'].value_counts())\n"
   ]
  },
  {
   "cell_type": "markdown",
   "metadata": {},
   "source": [
    "#### Monthly booked hours in a chart (2020)"
   ]
  },
  {
   "cell_type": "code",
   "execution_count": 6,
   "metadata": {},
   "outputs": [
    {
     "name": "stderr",
     "output_type": "stream",
     "text": [
      "No handles with labels found to put in legend.\n"
     ]
    },
    {
     "data": {
      "text/plain": [
       "[<matplotlib.lines.Line2D at 0x7f90d73c3fa0>]"
      ]
     },
     "execution_count": 6,
     "metadata": {},
     "output_type": "execute_result"
    },
    {
     "data": {
      "image/png": "[encoded data removed]",
      "text/plain": [
       "<Figure size 432x288 with 1 Axes>"
      ]
     },
     "metadata": {},
     "output_type": "display_data"
    }
   ],
   "source": [
    "#type(df_procon.groupby(by=['Export-Datum'])[['Stunden']].sum())\n",
    "#plt.style.available\n",
    "plt.style.use('seaborn-darkgrid')\n",
    "plt.legend(loc='center right')\n",
    "df_cms = df_procon.loc[cms_filter, :]\n",
    "#plt.plot(df_procon.groupby(by=['Export-Datum'])[['Stunden']].sum(), c='b', marker = '.', markersize=7)\n",
    "plt.plot(df_cms.groupby(by=['Export-Datum'])[['Stunden']].sum(), c='b', marker = '.', markersize=7)"
   ]
  },
  {
   "cell_type": "markdown",
   "metadata": {},
   "source": [
    " ### Velocity per product in current Sprint: AERQ, DISP, BC"
   ]
  },
  {
   "cell_type": "code",
   "execution_count": 2,
   "metadata": {},
   "outputs": [],
   "source": [
    "# JQL: retrieve all tickets in current Sprint\n",
    "search_string = 'project = BCIFCPCMS AND Sprint in (openSprints()) ORDER BY sprint'\n",
    "#search_string = 'project = \"SwM@BoardConnect IFEC Portal CMS\" AND Sprint in (13887)'\n"
   ]
  },
  {
   "cell_type": "markdown",
   "metadata": {},
   "source": [
    "**JQL Statement**\n",
    "```\n",
    "project = BCIFCPCMS AND Sprint in (openSprints()) ORDER BY sprint\n",
    "```"
   ]
  },
  {
   "cell_type": "code",
   "execution_count": 3,
   "metadata": {
    "jupyter": {
     "source_hidden": true
    }
   },
   "outputs": [
    {
     "name": "stdout",
     "output_type": "stream",
     "text": [
      "project = BCIFCPCMS AND Sprint in (openSprints()) ORDER BY sprint\n"
     ]
    }
   ],
   "source": [
    "# create DataFrame with relevant attributes from which further reports are derived\n",
    "df = pd.DataFrame()\n",
    "print(search_string)\n",
    "try:\n",
    "    jiraBc = mt.ts_connect()\n",
    "    df = mt.cat_cms_tickets(jiraBc, search_string)\n",
    "except Exception as e:\n",
    "    print(e)\n",
    "\n"
   ]
  },
  {
   "cell_type": "markdown",
   "metadata": {},
   "source": [
    "#### Velocity table and chart per category\n",
    "\n",
    "The chart shows tickets in current Sprint"
   ]
  },
  {
   "cell_type": "code",
   "execution_count": 9,
   "metadata": {
    "jupyter": {
     "source_hidden": true
    }
   },
   "outputs": [
    {
     "name": "stdout",
     "output_type": "stream",
     "text": [
      "            Story Points      %\n",
      "Labels                         \n",
      "AERQ                53.0  61.63\n",
      "BC                  11.0  12.79\n",
      "DISP@LH777          22.0  25.58\n"
     ]
    },
    {
     "data": {
      "image/png": "[encoded data removed]",
      "text/plain": [
       "<Figure size 360x360 with 1 Axes>"
      ]
     },
     "metadata": {},
     "output_type": "display_data"
    }
   ],
   "source": [
    "    # group selected tickets (current, future sprints) by categoryies: AERQ, DISP, BC\n",
    "    # sum Story Points (thus, Velocity) per category\n",
    "    df_new = df.groupby('Labels')[['Story Points']].sum()\n",
    "    # add a Velocity's percentage value per category\n",
    "    df_new['%'] = ((df_new['Story Points'] / df_new['Story Points'].sum()) * 100).round(2)\n",
    "    print(df_new)\n",
    "    plot = df_new.plot.pie(y='Story Points', figsize=(5, 5))\n"
   ]
  },
  {
   "cell_type": "markdown",
   "metadata": {},
   "source": [
    "#### Tickets in current Sprint"
   ]
  },
  {
   "cell_type": "code",
   "execution_count": 10,
   "metadata": {},
   "outputs": [
    {
     "name": "stdout",
     "output_type": "stream",
     "text": [
      "               Key  Story Points      Labels\n",
      "0   BCIFCPCMS-4853           NaN          BC\n",
      "1   BCIFCPCMS-5042           NaN          BC\n",
      "2   BCIFCPCMS-5020           5.0        AERQ\n",
      "3   BCIFCPCMS-5048           NaN        AERQ\n",
      "4   BCIFCPCMS-5002           3.0  DISP@LH777\n",
      "5   BCIFCPCMS-5066           NaN        AERQ\n",
      "6   BCIFCPCMS-5061           NaN          BC\n",
      "7   BCIFCPCMS-5018           0.0        AERQ\n",
      "8   BCIFCPCMS-4812           8.0  DISP@LH777\n",
      "9   BCIFCPCMS-4889          13.0        AERQ\n",
      "10  BCIFCPCMS-4959           5.0          BC\n",
      "11  BCIFCPCMS-4997           2.0  DISP@LH777\n",
      "12  BCIFCPCMS-4996           2.0  DISP@LH777\n",
      "13  BCIFCPCMS-5067           NaN          BC\n",
      "14  BCIFCPCMS-5019           1.0        AERQ\n",
      "15  BCIFCPCMS-5027           5.0        AERQ\n",
      "16  BCIFCPCMS-5071           NaN        AERQ\n",
      "17  BCIFCPCMS-5072           NaN        AERQ\n",
      "18  BCIFCPCMS-5055           NaN        AERQ\n",
      "19  BCIFCPCMS-5028           3.0        AERQ\n",
      "20  BCIFCPCMS-5063           3.0          BC\n",
      "21  BCIFCPCMS-4798           5.0        AERQ\n",
      "22  BCIFCPCMS-5051           3.0          BC\n",
      "23  BCIFCPCMS-4995           2.0  DISP@LH777\n",
      "24  BCIFCPCMS-4992           5.0  DISP@LH777\n",
      "25  BCIFCPCMS-4832          13.0        AERQ\n",
      "26  BCIFCPCMS-5078           NaN          BC\n",
      "27  BCIFCPCMS-4885           8.0        AERQ\n",
      "28  BCIFCPCMS-4998           0.0          BC\n"
     ]
    }
   ],
   "source": [
    "# Width of the display in characters. If set to None and pandas will correctly auto-detect the width.\n",
    "pd.set_option('display.width', None)\n",
    "print (df[['Key', 'Story Points', 'Labels']])"
   ]
  },
  {
   "cell_type": "markdown",
   "metadata": {},
   "source": [
    " ### Velocity per product in refined items: AERQ, DISP, BC"
   ]
  },
  {
   "cell_type": "code",
   "execution_count": 11,
   "metadata": {},
   "outputs": [],
   "source": [
    "# JQL: get all tickets which have label \"refined\" and that are in the backlog\n",
    "search_string = 'project = BCIFCPCMS AND issuetype not in subtaskIssueTypes() AND issuetype != Epic AND resolution = Unresolved AND (Sprint = EMPTY OR Sprint not in (openSprints(), futureSprints())) AND labels in (\"refined\")'"
   ]
  },
  {
   "cell_type": "markdown",
   "metadata": {},
   "source": [
    "**JQL Statement**\n",
    "```\n",
    "project = BCIFCPCMS AND issuetype not in subtaskIssueTypes() AND issuetype != Epic AND resolution = Unresolved AND (Sprint = EMPTY OR Sprint not in (openSprints(), futureSprints())) AND labels in (\"refined\")\n",
    "```"
   ]
  },
  {
   "cell_type": "code",
   "execution_count": 12,
   "metadata": {},
   "outputs": [],
   "source": [
    "# create DataFrame with relevant attributes from which further reports are derived\n",
    "df = pd.DataFrame()\n",
    "try:\n",
    "    jiraBc = mt.ts_connect()\n",
    "    df = mt.cat_cms_tickets(jiraBc, search_string)\n",
    "except Exception as e:\n",
    "    print(e)\n"
   ]
  },
  {
   "cell_type": "markdown",
   "metadata": {},
   "source": [
    "#### Velocity table and chart per category\n",
    "\n",
    "The chart shows refined items in Backlog"
   ]
  },
  {
   "cell_type": "code",
   "execution_count": 13,
   "metadata": {},
   "outputs": [
    {
     "name": "stdout",
     "output_type": "stream",
     "text": [
      "            Story Points      %\n",
      "Labels                         \n",
      "BC                 566.0  94.49\n",
      "DISP@LH777          33.0   5.51\n"
     ]
    },
    {
     "data": {
      "image/png": "[encoded data removed]",
      "text/plain": [
       "<Figure size 360x360 with 1 Axes>"
      ]
     },
     "metadata": {},
     "output_type": "display_data"
    }
   ],
   "source": [
    "    # group selected tickets (current, future sprints) by categoryies: AERQ, DISP, BC\n",
    "    # sum Story Points (thus, Velocity) per category\n",
    "    df_new = df.groupby('Labels')[['Story Points']].sum()\n",
    "    # add a Velocity's percentage value per category\n",
    "    df_new['%'] = ((df_new['Story Points'] / df_new['Story Points'].sum()) * 100).round(2)\n",
    "    print(df_new)\n",
    "    plot = df_new.plot.pie(y='Story Points', figsize=(5, 5))\n"
   ]
  },
  {
   "cell_type": "markdown",
   "metadata": {},
   "source": [
    " ### Velocity per product in future Sprints: AERQ, DISP, BC"
   ]
  },
  {
   "cell_type": "code",
   "execution_count": 14,
   "metadata": {},
   "outputs": [],
   "source": [
    "# JQL: get all non-closed tickets from future Sprints (thus: Refined Sprint (doesn't exist any longer; instead, label \"refined\" is used), existing Sprints > current one)\n",
    "search_string = 'project = BCIFCPCMS AND Sprint in (futureSprints()) AND status not in (Done, Closed, Resolved) ORDER BY sprint'\n"
   ]
  },
  {
   "cell_type": "markdown",
   "metadata": {},
   "source": [
    "**JQL Statement**\n",
    "```\n",
    "project = BCIFCPCMS AND Sprint in (futureSprints()) AND status not in (Done, Closed, Resolved) ORDER BY sprint\n",
    "```"
   ]
  },
  {
   "cell_type": "code",
   "execution_count": 15,
   "metadata": {},
   "outputs": [],
   "source": [
    "# create DataFrame with relevant attributes from which further reports are derived\n",
    "df = pd.DataFrame()\n",
    "try:\n",
    "    jiraBc = mt.ts_connect()\n",
    "    df = mt.cat_cms_tickets(jiraBc, search_string)\n",
    "except Exception as e:\n",
    "    print(e)\n",
    "\n"
   ]
  },
  {
   "cell_type": "markdown",
   "metadata": {},
   "source": [
    "#### Velocity table and chart per category\n",
    "\n",
    "The chart shows tickets in future Sprints (refined items that have already been planned in future Sprints)"
   ]
  },
  {
   "cell_type": "code",
   "execution_count": 16,
   "metadata": {},
   "outputs": [
    {
     "name": "stdout",
     "output_type": "stream",
     "text": [
      "            Story Points      %\n",
      "Labels                         \n",
      "AERQ                70.0  60.87\n",
      "BC                  37.0  32.17\n",
      "DISP@LH777           8.0   6.96\n"
     ]
    },
    {
     "data": {
      "image/png": "[encoded data removed]",
      "text/plain": [
       "<Figure size 360x360 with 1 Axes>"
      ]
     },
     "metadata": {},
     "output_type": "display_data"
    }
   ],
   "source": [
    "    # group selected tickets (current, future sprints) by categoryies: AERQ, DISP, BC\n",
    "    # sum Story Points (thus, Velocity) per category\n",
    "    df_new = df.groupby('Labels')[['Story Points']].sum()\n",
    "    # add a Velocity's percentage value per category\n",
    "    df_new['%'] = ((df_new['Story Points'] / df_new['Story Points'].sum()) * 100).round(2)\n",
    "    print(df_new)\n",
    "    plot = df_new.plot.pie(y='Story Points', figsize=(5, 5))\n"
   ]
  },
  {
   "cell_type": "markdown",
   "metadata": {},
   "source": [
    " ### Velocity per product in past month per category: AERQ, DISP, BC"
   ]
  },
  {
   "cell_type": "code",
   "execution_count": 6,
   "metadata": {
    "jupyter": {
     "source_hidden": true
    }
   },
   "outputs": [],
   "source": [
    "from datetime import date, timedelta\n",
    "\n",
    "previous_month = date.today().replace(day=1) - timedelta(days=1)\n",
    "#pre_previous_month = previous_month.replace(day=1) - timedelta(days=1)\n",
    "#pre_pre_previous_month = pre_previous_month.replace(day=1) - timedelta(days=1)\n",
    "#print(pre_pre_previous_month)\n",
    "#previous_month = pre_pre_previous_month\n",
    "# create DataFrame with relevant attributes from which further reports are derived\n",
    "search_string = ('project = BCIFCPCMS AND '\n",
    "'status changed TO (resolved, done, closed) '\n",
    "'AFTER \"' + str(previous_month.year) + '/' + str(previous_month.month) + '/' + '01\" '\n",
    "'BEFORE \"' + str(previous_month.year) + '/' + str(previous_month.month) + '/' + str(previous_month.day) + '\" '\n",
    "'ORDER BY  updated DESC')"
   ]
  },
  {
   "cell_type": "markdown",
   "metadata": {},
   "source": [
    "**JQL Statement**\n",
    "```\n",
    "project = BCIFCPCMS AND status changed to (resolved, done, closed) after \"yyyy/mm-1/1\" before \"yyyy/mm-1/<end_of_month>\" ORDER BY updated DESC\" \n",
    "```"
   ]
  },
  {
   "cell_type": "code",
   "execution_count": 7,
   "metadata": {
    "jupyter": {
     "source_hidden": true
    }
   },
   "outputs": [
    {
     "name": "stdout",
     "output_type": "stream",
     "text": [
      "project = BCIFCPCMS AND createdDate >= startOfYear() AND status changed TO (resolved, done, closed)\n"
     ]
    }
   ],
   "source": [
    "df = pd.DataFrame()\n",
    "print(search_string)\n",
    "try:\n",
    "    jiraBc = mt.ts_connect()\n",
    "    df = mt.cat_cms_tickets(jiraBc, search_string)\n",
    "except Exception as e:\n",
    "    print(e)\n"
   ]
  },
  {
   "cell_type": "markdown",
   "metadata": {},
   "source": [
    "#### Velocity table and chart per category"
   ]
  },
  {
   "cell_type": "code",
   "execution_count": 8,
   "metadata": {
    "jupyter": {
     "source_hidden": true
    }
   },
   "outputs": [
    {
     "name": "stdout",
     "output_type": "stream",
     "text": [
      "10 2021\n",
      "            Story Points      %\n",
      "Labels                         \n",
      "AERQ               635.0  48.29\n",
      "BC                 520.0  39.54\n",
      "DISP@LH777         160.0  12.17\n"
     ]
    },
    {
     "data": {
      "image/png": "[encoded data removed]",
      "text/plain": [
       "<Figure size 360x360 with 1 Axes>"
      ]
     },
     "metadata": {},
     "output_type": "display_data"
    }
   ],
   "source": [
    "    # group selected tickets (previous month) by categoryies: AERQ, DISP, BC\n",
    "    # sum Story Points (thus, Velocity) per category\n",
    "    df_new = df.groupby('Labels')[['Story Points']].sum()\n",
    "    # add a Velocity's percentage value per category\n",
    "    df_new['%'] = ((df_new['Story Points'] / df_new['Story Points'].sum()) * 100).round(2)\n",
    "    print (str(previous_month.month) + ' ' + str(previous_month.year))\n",
    "    print(df_new)\n",
    "    plot = df_new.plot.pie(y='Story Points', figsize=(5, 5))\n"
   ]
  },
  {
   "cell_type": "markdown",
   "metadata": {},
   "source": [
    " ### Velocity per product in current month per category: AERQ, DISP, BC"
   ]
  },
  {
   "cell_type": "code",
   "execution_count": 22,
   "metadata": {
    "jupyter": {
     "source_hidden": true
    }
   },
   "outputs": [],
   "source": [
    "current_month = date.today()\n",
    "search_string = ('project = BCIFCPCMS AND '\n",
    "'status changed TO (resolved, done, closed) '\n",
    "'AFTER \"' + str(current_month.year) + '/' + str(current_month.month) + '/' + '01\" '\n",
    "'BEFORE \"' + str(current_month) + '\" '\n",
    "'ORDER BY  updated DESC')"
   ]
  },
  {
   "cell_type": "markdown",
   "metadata": {},
   "source": [
    "**JQL Statement**\n",
    "```\n",
    "project = BCIFCPCMS AND status changed to (resolved, done, closed) after \"yyyy/mm/1\" before \"yyyy/mm-1/<today>\" ORDER BY updated DESC \n",
    "```"
   ]
  },
  {
   "cell_type": "code",
   "execution_count": 23,
   "metadata": {
    "jupyter": {
     "source_hidden": true
    }
   },
   "outputs": [
    {
     "name": "stdout",
     "output_type": "stream",
     "text": [
      "project = BCIFCPCMS AND status changed TO (resolved, done, closed) AFTER \"2021/11/01\" BEFORE \"2021-11-16\" ORDER BY  updated DESC\n"
     ]
    }
   ],
   "source": [
    "df = pd.DataFrame()\n",
    "print(search_string)\n",
    "try:\n",
    "    jiraBc = mt.ts_connect()\n",
    "    df = mt.cat_cms_tickets(jiraBc, search_string)\n",
    "except Exception as e:\n",
    "    print(e)\n"
   ]
  },
  {
   "cell_type": "markdown",
   "metadata": {},
   "source": [
    "#### Velocity table and chart per category"
   ]
  },
  {
   "cell_type": "code",
   "execution_count": 24,
   "metadata": {
    "jupyter": {
     "source_hidden": true
    }
   },
   "outputs": [
    {
     "name": "stdout",
     "output_type": "stream",
     "text": [
      "11 2021\n",
      "            Story Points      %\n",
      "Labels                         \n",
      "AERQ                36.0  70.59\n",
      "BC                   6.0  11.76\n",
      "DISP@LH777           9.0  17.65\n"
     ]
    },
    {
     "data": {
      "image/png": "[encoded data removed]",
      "text/plain": [
       "<Figure size 360x360 with 1 Axes>"
      ]
     },
     "metadata": {},
     "output_type": "display_data"
    }
   ],
   "source": [
    "    # group selected tickets (current month) by categoryies: AERQ, DISP, BC\n",
    "    # sum Story Points (thus, Velocity) per category\n",
    "    if df.empty:\n",
    "        print('In current month, no tickets have been processed so far')\n",
    "    else:\n",
    "        df_new = df.groupby('Labels')[['Story Points']].sum()\n",
    "        # add a Velocity's percentage value per category\n",
    "        df_new['%'] = ((df_new['Story Points'] / df_new['Story Points'].sum()) * 100).round(2)\n",
    "        print (str(current_month.month) + ' ' + str(current_month.year))\n",
    "        print(df_new)\n",
    "        plot = df_new.plot.pie(y='Story Points', figsize=(5, 5))\n"
   ]
  },
  {
   "cell_type": "code",
   "execution_count": 5,
   "metadata": {},
   "outputs": [],
   "source": [
    "search_string = 'project = \"SwM@BoardConnect IFEC Portal CMS\" AND type = Task AND createdDate >= startOfYear() AND issueFunction in aggregateExpression(\"timespent\") ORDER BY sprint'"
   ]
  },
  {
   "cell_type": "markdown",
   "metadata": {},
   "source": [
    "**JQL Statement**\n",
    "```\n",
    "project = \"SwM@BoardConnect IFEC Portal CMS\" AND type = Task AND createdDate >= startOfYear() ORDER BY sprint\n",
    "```"
   ]
  },
  {
   "cell_type": "code",
   "execution_count": 8,
   "metadata": {},
   "outputs": [
    {
     "name": "stdout",
     "output_type": "stream",
     "text": [
      "project = \"SwM@BoardConnect IFEC Portal CMS\" AND type = Task AND createdDate >= startOfYear() AND issueFunction in aggregateExpression(\"timespent\") ORDER BY sprint\n",
      "Index: 0, row: ['BCIFCPCMS-4683' 'SU | Side Menu not visible on RUS page'\n",
      " '2021-04-19T09:34:23.000+0000' '2021-04-19T10:18:43.000+0000' nan\n",
      " 'Closed' 'BC' 600.0]\n",
      "Index: 1, row: ['BCIFCPCMS-4678' 'Referencing an internal PDF from a Link content type'\n",
      " '2021-04-16T09:38:29.000+0000' '2021-04-19T09:03:55.000+0000' nan\n",
      " 'Closed' 'BC' 3600.0]\n",
      "Index: 2, row: ['BCIFCPCMS-4666' 'SU support in Sprint 145'\n",
      " '2021-04-09T13:50:37.000+0000' '2021-04-19T09:04:00.000+0000' nan\n",
      " 'Closed' 'BC' 14640.0]\n",
      "Index: 3, row: ['BCIFCPCMS-4700' 'SU | CMS meta-data export partially fails'\n",
      " '2021-04-22T11:00:11.000+0000' '2021-04-26T07:14:31.000+0000' nan\n",
      " 'Closed' 'BC' 900.0]\n",
      "Index: 4, row: ['BCIFCPCMS-4701' 'Compatibilty question ' '2021-04-23T07:37:39.000+0000'\n",
      " '2021-04-23T11:17:58.000+0000' nan 'Closed' 'BC' 900.0]\n",
      "Index: 5, row: ['BCIFCPCMS-4691' 'Questions from IDAir regarding CMS API'\n",
      " '2021-04-21T12:20:28.000+0000' '2021-04-27T15:47:29.000+0000' nan\n",
      " 'Closed' 'BC' 600.0]\n",
      "Index: 6, row: ['BCIFCPCMS-4705' 'SUPROD / BCEL field length warning'\n",
      " '2021-04-27T08:58:30.000+0000' '2021-04-27T09:19:09.000+0000' nan\n",
      " 'Closed' 'BC' 7200.0]\n",
      "Index: 7, row: ['BCIFCPCMS-4694' 'CMS Support' '2021-04-21T15:33:29.000+0000'\n",
      " '2021-07-04T07:35:58.000+0000' nan 'Closed' 'BC' 4200.0]\n",
      "Index: 8, row: ['BCIFCPCMS-4688' 'OS-A320 PROD Filtering Incident'\n",
      " '2021-04-20T08:28:18.000+0000' '2021-04-29T05:08:49.000+0000' nan\n",
      " 'Closed' 'DISP@LH777' 14400.0]\n",
      "Index: 9, row: ['BCIFCPCMS-4674'\n",
      " 'Support with contract updates / data definition for Stage Extension - 5-Slides Carousel -Related URL Parameter'\n",
      " '2021-04-15T11:00:54.000+0000' '2021-04-23T11:16:35.000+0000' nan\n",
      " 'Closed' 'DISP@LH777' 6000.0]\n",
      "Index: 10, row: ['BCIFCPCMS-4687' 'Developer Portal review: DEVPLSY-747 Drupal 9 upgrade'\n",
      " '2021-04-19T13:18:12.000+0000' '2021-04-26T08:03:23.000+0000' nan\n",
      " 'Closed' 'BC' 10800.0]\n",
      "Index: 11, row: ['BCIFCPCMS-4684' 'Developer Portal review: DEVPLSY-686 All news list'\n",
      " '2021-04-19T13:15:27.000+0000' '2021-04-26T15:46:06.000+0000' nan\n",
      " 'Closed' 'BC' 7200.0]\n",
      "Index: 12, row: ['BCIFCPCMS-4685'\n",
      " 'Developer Portal review: DEVPLSY-710 Placeholder images in News items'\n",
      " '2021-04-19T13:16:08.000+0000' '2021-04-28T12:04:06.000+0000' nan\n",
      " 'Closed' 'BC' 3600.0]\n",
      "Index: 13, row: ['BCIFCPCMS-4686'\n",
      " 'Developer Portal review: DEVPLSY-711 Topic in News item'\n",
      " '2021-04-19T13:16:35.000+0000' '2021-04-29T08:57:25.000+0000' nan\n",
      " 'Closed' 'BC' 7200.0]\n",
      "Index: 14, row: ['BCIFCPCMS-4693' 'Compile list of environments (and add user for Manuel)'\n",
      " '2021-04-21T13:47:05.000+0000' '2021-05-06T11:34:48.000+0000' 2.0\n",
      " 'Closed' 'BC' nan]\n",
      "Index: 15, row: ['BCIFCPCMS-4736'\n",
      " 'Server level configuration of new domains (4Y, EW-A320, OS-A320, LH-A320)'\n",
      " '2021-05-11T15:48:53.000+0000' '2021-05-17T08:44:36.000+0000' nan\n",
      " 'Closed' 'BC' 17190.0]\n",
      "Index: 16, row: ['BCIFCPCMS-4734'\n",
      " 'Resolve merge conflicts of ACME reverse proxy configurations'\n",
      " '2021-05-10T09:11:40.000+0000' '2021-05-11T07:24:54.000+0000' nan\n",
      " 'Closed' 'BC' 9000.0]\n",
      "Index: 17, row: ['BCIFCPCMS-4673'\n",
      " 'Support with contract updates / data definition for External Link - Flight-Related URL Parameter'\n",
      " '2021-04-15T11:00:09.000+0000' '2021-05-17T08:03:59.000+0000' nan\n",
      " 'Closed' 'DISP@LH777' 900.0]\n",
      "Index: 18, row: ['BCIFCPCMS-4740' 'Fix Teamcity mbind error'\n",
      " '2021-05-14T09:58:22.000+0000' '2021-05-14T10:00:59.000+0000' nan\n",
      " 'Closed' 'BC' 3600.0]\n",
      "Index: 19, row: ['BCIFCPCMS-4737' 'AERQ: Selenium connection error'\n",
      " '2021-05-13T09:53:56.000+0000' '2021-05-18T07:27:14.000+0000' nan\n",
      " 'Closed' 'BC' 900.0]\n",
      "Index: 20, row: ['BCIFCPCMS-4733' 'Fix stuck release on os-a320 prod'\n",
      " '2021-05-06T13:36:03.000+0000' '2021-05-12T09:28:43.000+0000' nan\n",
      " 'Closed' 'BC' 1800.0]\n",
      "Index: 21, row: ['BCIFCPCMS-4720'\n",
      " 'Developer Portal review: DEVPLSY-749 Submit has to be disabled'\n",
      " '2021-05-03T17:38:20.000+0000' '2021-05-06T14:09:42.000+0000' nan\n",
      " 'Closed' 'BC' 3600.0]\n",
      "Index: 22, row: ['BCIFCPCMS-4721'\n",
      " 'Developer Portal review: DEVPLSY-754 Preview does not contain all of the content'\n",
      " '2021-05-03T17:40:34.000+0000' '2021-05-12T14:19:48.000+0000' nan\n",
      " 'Closed' 'BC' nan]\n",
      "Index: 23, row: ['BCIFCPCMS-4722'\n",
      " 'Developer Portal review: DEVPLSY-752 No Concept document shown in menu without Overview'\n",
      " '2021-05-03T17:41:22.000+0000' '2021-05-12T15:18:23.000+0000' nan\n",
      " 'Closed' 'BC' 1800.0]\n",
      "Index: 24, row: ['BCIFCPCMS-4723' 'Developer Portal review: DEVPLSY-759 Drupal core patch'\n",
      " '2021-05-03T17:51:56.000+0000' '2021-05-12T15:18:27.000+0000' nan\n",
      " 'Closed' 'BC' 1800.0]\n",
      "Index: 25, row: ['BCIFCPCMS-4719'\n",
      " 'Developer Portal review: DEVPLSY-713 Topics in All news list page'\n",
      " '2021-05-03T17:37:17.000+0000' '2021-05-05T14:48:28.000+0000' nan\n",
      " 'Closed' 'BC' 10800.0]\n",
      "Index: 26, row: ['BCIFCPCMS-4707'\n",
      " 'DISP release notes in BCIFCPCMS for DISP missining for 0.12.2'\n",
      " '2021-04-27T12:03:30.000+0000' '2021-09-06T11:39:11.000+0000' 0.0 'Open'\n",
      " 'DISP@LH777' nan]\n",
      "Index: 27, row: ['BCIFCPCMS-4746' 'New tarifs not visible in runtime'\n",
      " '2021-05-17T17:57:13.000+0000' '2021-05-21T05:12:08.000+0000' nan\n",
      " 'Closed' 'DISP@LH777' nan]\n",
      "Index: 28, row: ['BCIFCPCMS-4747' 'DevPortal review DEVPLSY-768'\n",
      " '2021-05-18T13:32:56.000+0000' '2021-05-27T09:42:17.000+0000' nan\n",
      " 'Closed' 'BC' 14400.0]\n",
      "Index: 29, row: ['BCIFCPCMS-4748' 'DevPortal review: DEVPLSY-758'\n",
      " '2021-05-18T13:36:18.000+0000' '2021-05-31T08:33:39.000+0000' nan\n",
      " 'Closed' 'BC' nan]\n",
      "Index: 30, row: ['BCIFCPCMS-4750' 'DevPortal review DEVPLSY-791'\n",
      " '2021-05-18T13:53:24.000+0000' '2021-06-04T12:29:11.000+0000' nan\n",
      " 'Closed' 'BC' 14400.0]\n",
      "Index: 31, row: ['BCIFCPCMS-4756'\n",
      " 'Please create an CMS account for Heiko Waechter (U416164) on WL CMS (PROD/INT/TEST)'\n",
      " '2021-05-20T09:34:16.000+0000' '2021-05-26T07:33:50.000+0000' nan\n",
      " 'Closed' 'BC' nan]\n",
      "Index: 32, row: ['BCIFCPCMS-4754' 'Login for Maja Zernin does not work'\n",
      " '2021-05-19T08:50:13.000+0000' '2021-05-26T07:33:54.000+0000' nan\n",
      " 'Closed' 'BC' nan]\n",
      "Index: 33, row: ['BCIFCPCMS-4760' 'NWL: environment variable substitution problem'\n",
      " '2021-05-26T07:34:08.000+0000' '2021-05-26T14:19:52.000+0000' nan\n",
      " 'Closed' 'BC' 32400.0]\n",
      "Index: 34, row: ['BCIFCPCMS-4784' 'DevPortal review DEVPLSY-767'\n",
      " '2021-06-08T10:02:53.000+0000' '2021-06-09T09:13:16.000+0000' nan\n",
      " 'Closed' 'BC' 3600.0]\n",
      "Index: 35, row: ['BCIFCPCMS-4775' 'DevPortal review DEVPLSY-631'\n",
      " '2021-06-02T08:23:05.000+0000' '2021-06-09T13:57:46.000+0000' nan\n",
      " 'Closed' 'BC' 9000.0]\n",
      "Index: 36, row: ['BCIFCPCMS-4776' 'DevPortal review DEVPLSY-793'\n",
      " '2021-06-02T08:23:57.000+0000' '2021-06-08T14:08:51.000+0000' nan\n",
      " 'Closed' 'BC' 7200.0]\n",
      "Index: 37, row: ['BCIFCPCMS-4777' 'DevPortal review DEVPLSY-794'\n",
      " '2021-06-02T08:24:40.000+0000' '2021-06-08T14:57:37.000+0000' nan\n",
      " 'Closed' 'BC' 3600.0]\n",
      "Index: 38, row: ['BCIFCPCMS-4778' 'DevPortal review DEVPLSY-796'\n",
      " '2021-06-02T08:25:19.000+0000' '2021-06-16T12:23:41.000+0000' nan\n",
      " 'Closed' 'BC' 7200.0]\n",
      "Index: 39, row: ['BCIFCPCMS-4787' 'Placeholders for target airport in CMS'\n",
      " '2021-06-14T09:12:53.000+0000' '2021-06-15T07:37:15.000+0000' nan\n",
      " 'Closed' 'BC' nan]\n",
      "Index: 40, row: ['BCIFCPCMS-4791' 'DevPortal review DEVPLSY-807'\n",
      " '2021-06-15T09:59:40.000+0000' '2021-06-16T13:46:24.000+0000' nan\n",
      " 'Closed' 'BC' 3600.0]\n",
      "Index: 41, row: ['BCIFCPCMS-4792' 'DevPortal review DEVPLSY-814'\n",
      " '2021-06-15T10:00:21.000+0000' '2021-06-17T06:52:10.000+0000' nan\n",
      " 'Closed' 'BC' 1800.0]\n",
      "Index: 42, row: ['BCIFCPCMS-4797' 'LY| August 2021 Classic | SSD delivery'\n",
      " '2021-06-22T05:42:57.000+0000' '2021-06-25T07:38:12.000+0000' nan\n",
      " 'Closed' 'BC' 14400.0]\n",
      "Index: 43, row: ['BCIFCPCMS-4796' 'Investigate dark flight for EN'\n",
      " '2021-06-17T10:23:51.000+0000' '2021-06-30T12:15:31.000+0000' nan\n",
      " 'Closed' 'BC' 2700.0]\n",
      "Index: 44, row: ['BCIFCPCMS-4795' 'Logging for FAPI availability'\n",
      " '2021-06-17T09:17:18.000+0000' '2021-06-25T07:39:17.000+0000' nan\n",
      " 'Closed' 'DISP@LH777' nan]\n",
      "Index: 45, row: ['BCIFCPCMS-4790' 'DevPortal review DEVPLSY-815'\n",
      " '2021-06-15T09:59:02.000+0000' '2021-07-26T07:25:29.000+0000' nan\n",
      " 'Closed' 'BC' 28800.0]\n",
      "Index: 46, row: ['BCIFCPCMS-4855'\n",
      " 'Create user accounts for AERQ colleagues in CMS WL Test'\n",
      " '2021-07-06T07:32:34.000+0000' '2021-07-12T06:22:45.000+0000' nan\n",
      " 'Closed' 'BC' 900.0]\n",
      "Index: 47, row: ['BCIFCPCMS-4857' 'DevPortal development support'\n",
      " '2021-07-07T14:01:54.000+0000' '2021-07-12T06:22:57.000+0000' nan\n",
      " 'Closed' 'BC' 5400.0]\n",
      "Index: 48, row: ['BCIFCPCMS-4853' 'CMS support' '2021-07-02T11:11:51.000+0000'\n",
      " '2021-11-17T13:00:04.000+0000' nan 'Open' 'BC' 108600.0]\n",
      "Index: 49, row: ['BCIFCPCMS-4860' 'DevPortal review DEVPLSY-818'\n",
      " '2021-07-12T14:43:08.000+0000' '2021-07-26T07:24:05.000+0000' nan\n",
      " 'Closed' 'BC' 1800.0]\n",
      "Index: 50, row: ['BCIFCPCMS-4859' 'DevPortal review DEVPLSY-817'\n",
      " '2021-07-12T14:41:52.000+0000' '2021-07-26T07:24:32.000+0000' nan\n",
      " 'Closed' 'BC' 1800.0]\n",
      "Index: 51, row: ['BCIFCPCMS-4874' 'DevPortal review DEVPLSY-843'\n",
      " '2021-07-28T12:47:15.000+0000' '2021-08-05T14:48:37.000+0000' nan\n",
      " 'Closed' 'BC' 5400.0]\n",
      "Index: 52, row: ['BCIFCPCMS-4866' 'LY | Import video and audio metadata into PROD CMS'\n",
      " '2021-07-26T08:20:31.000+0000' '2021-08-04T11:56:38.000+0000' nan\n",
      " 'Closed' 'BC' 7200.0]\n",
      "Index: 53, row: ['BCIFCPCMS-4888' 'DevPortal review DEVPLSY-845'\n",
      " '2021-08-04T19:00:40.000+0000' '2021-08-05T14:16:48.000+0000' nan\n",
      " 'Closed' 'BC' 1800.0]\n",
      "Index: 54, row: ['BCIFCPCMS-4749' 'DevPortal review: DEVPLSY-789'\n",
      " '2021-05-18T13:38:41.000+0000' '2021-08-03T09:28:18.000+0000' nan\n",
      " 'Closed' 'BC' 10800.0]\n",
      "Index: 55, row: ['BCIFCPCMS-4873' 'DevPortal review DEVPLSY-840'\n",
      " '2021-07-28T12:45:56.000+0000' '2021-07-30T15:27:45.000+0000' nan\n",
      " 'Closed' 'BC' 7200.0]\n",
      "Index: 56, row: ['BCIFCPCMS-4881' 'SU | Import audio metadata into PROD CMS'\n",
      " '2021-08-04T11:56:37.000+0000' '2021-09-15T09:39:27.000+0000' nan\n",
      " 'Closed' 'BC' 14400.0]\n",
      "Index: 57, row: ['BCIFCPCMS-4898' 'LH DISP CMS A320 release is hanging'\n",
      " '2021-08-09T13:29:17.000+0000' '2021-08-11T07:43:22.000+0000' nan\n",
      " 'Closed' 'BC' 3600.0]\n",
      "Index: 58, row: ['BCIFCPCMS-4876' 'VARA | Linux content update, NOV 2021 | SSD delivery'\n",
      " '2021-08-02T08:29:28.000+0000' '2021-09-08T05:10:29.000+0000' nan 'Open'\n",
      " 'BC' nan]\n",
      "Index: 59, row: ['BCIFCPCMS-4914' 'Handle the pending merge request'\n",
      " '2021-08-30T09:51:53.000+0000' '2021-09-09T07:36:08.000+0000' 0.0\n",
      " 'Closed' 'AERQ' 7200.0]\n",
      "Index: 60, row: ['BCIFCPCMS-4930' 'DevPortal review DEVPLSY-897'\n",
      " '2021-09-01T17:57:38.000+0000' '2021-09-03T07:33:16.000+0000' nan\n",
      " 'Closed' 'BC' 18000.0]\n",
      "Index: 61, row: ['BCIFCPCMS-4932' 'DevPortal review DEVPLSY-899'\n",
      " '2021-09-02T07:57:04.000+0000' '2021-09-07T08:26:53.000+0000' nan\n",
      " 'Closed' 'BC' 7200.0]\n",
      "Index: 62, row: ['BCIFCPCMS-5005' 'DevPortal review DEVPLSY-926'\n",
      " '2021-09-20T17:10:02.000+0000' '2021-09-23T07:18:36.000+0000' nan\n",
      " 'Closed' 'BC' 3600.0]\n",
      "Index: 63, row: ['BCIFCPCMS-5014'\n",
      " '4Y Cont | Import video & audio metadata into 4Y Cont. PROD CMS'\n",
      " '2021-09-23T14:07:21.000+0000' '2021-09-30T16:14:24.000+0000' 2.0\n",
      " 'Closed' 'BC' 7200.0]\n",
      "Index: 64, row: ['BCIFCPCMS-5015' 'Ramp up' '2021-09-23T15:05:31.000+0000'\n",
      " '2021-10-01T07:39:47.000+0000' nan 'Closed' 'BC' 54000.0]\n",
      "Index: 65, row: ['BCIFCPCMS-4970' 'VA | Import video & audio metadata into VA PROD CMS'\n",
      " '2021-09-15T09:39:25.000+0000' '2021-10-12T06:54:08.000+0000' 2.0\n",
      " 'Closed' 'BC' 14400.0]\n",
      "Index: 66, row: ['BCIFCPCMS-5008' 'EW | copy content editing from EW PROD to EW-A320 PROD'\n",
      " '2021-09-22T06:49:32.000+0000' '2021-10-11T12:18:20.000+0000' nan\n",
      " 'Closed' 'BC' 18000.0]\n",
      "Index: 67, row: ['BCIFCPCMS-5003' 'Release in VA INT does not work '\n",
      " '2021-09-20T11:08:07.000+0000' '2021-10-13T08:49:01.000+0000' nan\n",
      " 'Closed' 'BC' 87300.0]\n",
      "Index: 68, row: ['BCIFCPCMS-5029' 'DevPortal review DEVPLSY-906'\n",
      " '2021-09-29T13:29:31.000+0000' '2021-10-22T14:16:24.000+0000' nan\n",
      " 'Closed' 'AERQ' 3600.0]\n",
      "Index: 69, row: ['BCIFCPCMS-5007' 'DevPortal review DEVPLSY-922'\n",
      " '2021-09-20T17:15:02.000+0000' '2021-10-22T14:18:26.000+0000' nan\n",
      " 'Closed' 'AERQ' 7200.0]\n",
      "Index: 70, row: ['BCIFCPCMS-5006' 'DevPortal review DEVPLSY-924'\n",
      " '2021-09-20T17:12:47.000+0000' '2021-10-22T14:18:33.000+0000' nan\n",
      " 'Closed' 'AERQ' 10800.0]\n",
      "Index: 71, row: ['BCIFCPCMS-4977' 'SU | Import video & audio metadata into SU PROD CMS'\n",
      " '2021-09-15T10:03:28.000+0000' '2021-10-26T14:51:28.000+0000' 3.0\n",
      " 'Closed' 'BC' 21600.0]\n",
      "Index: 72, row: ['BCIFCPCMS-5038' 'DevPortal review DEVPLSY-483'\n",
      " '2021-10-04T12:58:53.000+0000' '2021-10-22T14:17:50.000+0000' nan\n",
      " 'Closed' 'AERQ' 10800.0]\n",
      "Index: 73, row: ['BCIFCPCMS-5037' 'DevPortal review DEVPLSY-927'\n",
      " '2021-10-04T12:55:06.000+0000' '2021-10-22T14:18:14.000+0000' nan\n",
      " 'Closed' 'AERQ' 7200.0]\n",
      "Index: 74, row: ['BCIFCPCMS-5039' 'DevPortal review DEVPLSY-923'\n",
      " '2021-10-04T12:59:59.000+0000' '2021-10-25T14:19:10.000+0000' nan\n",
      " 'Closed' 'AERQ' 14400.0]\n",
      "Index: 75, row: ['BCIFCPCMS-5036' 'Add Airports to DISP Base Catalog'\n",
      " '2021-10-04T10:54:00.000+0000' '2021-10-13T12:37:39.000+0000' nan\n",
      " 'Closed' 'DISP@LH777' 10800.0]\n",
      "Index: 76, row: ['BCIFCPCMS-5033' 'Enable simple video for EW-A320 PROD'\n",
      " '2021-10-01T08:27:15.000+0000' '2021-10-13T12:48:33.000+0000' 0.0\n",
      " 'Closed' 'BC' 16200.0]\n",
      "Index: 77, row: ['BCIFCPCMS-5042' 'Ramp up' '2021-10-07T08:55:24.000+0000'\n",
      " '2021-11-05T08:49:54.000+0000' nan 'Closed' 'BC' 3600.0]\n",
      "Index: 78, row: ['BCIFCPCMS-5049' 'DevPortal review DEVPLSY-968'\n",
      " '2021-10-19T08:05:43.000+0000' '2021-10-25T14:23:36.000+0000' nan\n",
      " 'Closed' 'AERQ' 3600.0]\n",
      "Index: 79, row: ['BCIFCPCMS-5044' 'LY | Import video & audio metadata into LY PROD CMS'\n",
      " '2021-10-13T10:45:49.000+0000' '2021-10-25T14:40:40.000+0000' nan\n",
      " 'Closed' 'BC' 19800.0]\n",
      "Index: 80, row: ['BCIFCPCMS-5047' 'DevPortal review DEVPLSY-910'\n",
      " '2021-10-19T08:02:53.000+0000' '2021-10-29T15:10:25.000+0000' nan\n",
      " 'Closed' 'AERQ' 10800.0]\n",
      "Index: 81, row: ['BCIFCPCMS-5043' 'EW | Import of DEC content to EW-A320 PROD'\n",
      " '2021-10-11T12:16:17.000+0000' '2021-11-02T13:51:30.000+0000' nan\n",
      " 'Closed' 'BC' 18000.0]\n",
      "Index: 82, row: ['BCIFCPCMS-5066'\n",
      " 'Update ISD Runtime and Receiver versions in scs repository'\n",
      " '2021-10-25T12:44:34.000+0000' '2021-11-08T12:16:40.000+0000' nan\n",
      " 'Closed' 'AERQ' 7200.0]\n",
      "Index: 83, row: ['BCIFCPCMS-5016' 'SU | Import video & audio metadata into SU PROD CMS'\n",
      " '2021-09-24T07:53:59.000+0000' '2021-11-15T14:58:34.000+0000' 3.0\n",
      " 'Closed' 'BC' 25200.0]\n",
      "Index: 84, row: ['BCIFCPCMS-5048' 'DevPortal review DEVPLSY-925'\n",
      " '2021-10-19T08:03:49.000+0000' '2021-11-17T12:59:26.000+0000' nan 'Open'\n",
      " 'AERQ' nan]\n",
      "Index: 85, row: ['BCIFCPCMS-5067' 'I1 | Import of DEC content to I1 PROD'\n",
      " '2021-10-26T09:09:09.000+0000' '2021-11-04T09:36:14.000+0000' nan\n",
      " 'Closed' 'BC' 9000.0]\n",
      "Index: 86, row: ['BCIFCPCMS-5071' 'DevPortal review DEVPLSY-913'\n",
      " '2021-11-08T09:19:29.000+0000' '2021-11-10T11:17:21.000+0000' nan\n",
      " 'Closed' 'AERQ' 3600.0]\n",
      "Index: 87, row: ['BCIFCPCMS-5072' 'DevPortal review DEVPLSY-931'\n",
      " '2021-11-08T09:23:37.000+0000' '2021-11-10T11:17:32.000+0000' nan\n",
      " 'Closed' 'AERQ' 3600.0]\n",
      "Index: 88, row: ['BCIFCPCMS-5078' 'VA INT metadata import DEC'\n",
      " '2021-11-15T14:11:41.000+0000' '2021-11-16T08:49:35.000+0000' nan\n",
      " 'Closed' 'BC' nan]\n",
      "Index: 89, row: ['BCIFCPCMS-5063' 'GAF | Import audio metadata into WL TEST CMS'\n",
      " '2021-10-25T09:13:26.000+0000' '2021-11-08T11:54:59.000+0000' 3.0\n",
      " 'Closed' 'BC' 18000.0]\n",
      "Index: 90, row: ['BCIFCPCMS-5079' 'SU | Import video & audio metadata into SU PROD CMS'\n",
      " '2021-11-15T14:58:33.000+0000' '2021-11-17T13:03:23.000+0000' 3.0 'Open'\n",
      " 'BC' nan]\n",
      "Index: 91, row: ['BCIFCPCMS-5045' 'ID | Import video to ID PROD CMS'\n",
      " '2021-10-14T09:51:27.000+0000' '2021-11-17T13:40:01.000+0000' 3.0 'Open'\n",
      " 'BC' nan]\n",
      "Index: 92, row: ['BCIFCPCMS-4735' 'Side Menu in User Guide '\n",
      " '2021-05-11T11:36:13.000+0000' '2021-05-17T05:02:20.000+0000' nan 'Open'\n",
      " 'BC' nan]\n",
      "Index: 93, row: ['BCIFCPCMS-4706' 'Add version label to CMS image'\n",
      " '2021-04-27T09:49:55.000+0000' '2021-04-29T08:10:44.000+0000' nan\n",
      " 'Closed' 'BC' nan]\n",
      "Index: 94, row: ['BCIFCPCMS-4675' 'LY | Expired assets not highlighted '\n",
      " '2021-04-15T11:30:22.000+0000' '2021-04-19T19:39:12.000+0000' nan 'Open'\n",
      " 'BC' nan]\n",
      "Index: 95, row: ['BCIFCPCMS-4728' 'Fix 4YPROD stack' '2021-05-06T08:44:13.000+0000'\n",
      " '2021-05-06T08:45:15.000+0000' nan 'Closed' 'BC' 30.0]\n",
      "Index: 96, row: ['BCIFCPCMS-4953' 'DevPortal review DEVPLSY-856, DEVPLSY-862'\n",
      " '2021-09-13T14:09:48.000+0000' '2021-09-13T14:10:39.000+0000' nan 'Open'\n",
      " 'BC' nan]\n",
      "Index: 97, row: ['BCIFCPCMS-4729' 'Update LYPROD stack' '2021-05-06T09:23:17.000+0000'\n",
      " '2021-09-15T10:47:50.000+0000' 3.0 'Closed' 'BC' 30.0]\n",
      "Index: 98, row: ['BCIFCPCMS-4952' 'I1| CMS Upgrade to latest CMS version'\n",
      " '2021-09-13T12:49:11.000+0000' '2021-09-13T12:49:32.000+0000' nan 'Open'\n",
      " 'BC' nan]\n",
      "Index: 99, row: ['BCIFCPCMS-5024' 'Grid import in WL INT for Ethiopian Airlines trial'\n",
      " '2021-09-29T08:25:36.000+0000' '2021-09-29T20:18:57.000+0000' nan 'Open'\n",
      " 'BC' nan]\n",
      "Index: 100, row: ['BCIFCPCMS-5046' 'Please DELETE TKT  - I1 | Import video ID PROD CMS'\n",
      " '2021-10-15T08:28:51.000+0000' '2021-10-15T09:36:19.000+0000' 3.0\n",
      " 'Closed' 'BC' nan]\n",
      "Time spent on tasks (hours): 246.44166666666666\n"
     ]
    }
   ],
   "source": [
    "df = pd.DataFrame()\n",
    "print(search_string)\n",
    "try:\n",
    "    jiraBc = mt.ts_connect()\n",
    "    df = mt.cat_cms_tickets(jiraBc, search_string)\n",
    "    sum_tasks = 0\n",
    "    for index, row in df.iterrows():\n",
    "        if float(row['Time spent']) > 0:\n",
    "            #print(float(row['Time spent']))\n",
    "            sum_tasks += row['Time spent']  \n",
    "            #print(sum_tasks) \n",
    "        print(f'Index: {index}, row: {row.values}')\n",
    "    #print(sum_tasks)\n",
    "    sum_tasks = sum_tasks / 3600\n",
    "    print('Time spent on tasks (hours): ' + str(sum_tasks))\n",
    "except Exception as e:\n",
    "    print(e)\n",
    "# dump DataFrame to CSV file\n",
    "df.to_csv('./BCIFCPCMS_tasks.csv', index=False)\n"
   ]
  },
  {
   "cell_type": "code",
   "execution_count": 28,
   "metadata": {},
   "outputs": [
    {
     "name": "stderr",
     "output_type": "stream",
     "text": [
      "No handles with labels found to put in legend.\n"
     ]
    },
    {
     "data": {
      "text/plain": [
       "[<matplotlib.lines.Line2D at 0x7f90d80fbca0>]"
      ]
     },
     "execution_count": 28,
     "metadata": {},
     "output_type": "execute_result"
    },
    {
     "data": {
      "image/png": "[encoded data removed]",
      "text/plain": [
       "<Figure size 432x288 with 1 Axes>"
      ]
     },
     "metadata": {},
     "output_type": "display_data"
    }
   ],
   "source": [
    "\n",
    "plt.style.use('seaborn-darkgrid')\n",
    "plt.legend(loc='center right')\n",
    "#plt.plot(df_procon.groupby(by=['Export-Datum'])[['Stunden']].sum(), c='b', marker = '.', markersize=7)\n",
    "plt.plot(df.groupby(by=['Created'])[['Time spent']].sum()/3600)"
   ]
  }
 ],
 "metadata": {
  "interpreter": {
   "hash": "3067ead486e059ec00ffe7555bdb889e6e264a24dc711bf108106cc7baee8d5d"
  },
  "kernelspec": {
   "display_name": "Python 3.8.5 64-bit ('base': conda)",
   "name": "python3"
  },
  "language_info": {
   "codemirror_mode": {
    "name": "ipython",
    "version": 3
   },
   "file_extension": ".py",
   "mimetype": "text/x-python",
   "name": "python",
   "nbconvert_exporter": "python",
   "pygments_lexer": "ipython3",
   "version": "3.8.5"
  }
 },
 "nbformat": 4,
 "nbformat_minor": 4
}
