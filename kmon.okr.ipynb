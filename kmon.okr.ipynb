{
 "cells": [
  {
   "cell_type": "code",
   "execution_count": 25,
   "metadata": {},
   "outputs": [],
   "source": [
    "# define relevant packages; among others: JIRA API\n",
    "import pandas as pd\n",
    "import numpy as np \n",
    "from jira import JIRA \n",
    "import matplotlib.pyplot as plt\n",
    "#import mwtools as mt"
   ]
  },
  {
   "cell_type": "code",
   "execution_count": 26,
   "metadata": {},
   "outputs": [
    {
     "name": "stdout",
     "output_type": "stream",
     "text": [
      "k.ey\n",
      "64    * release of edge stack 1.2.0\\n* Local API fir...\n",
      "65    The OnPrem API is testable with a real client ...\n",
      "Name: goal, dtype: object\n",
      "Dashboard\n",
      "36    \n",
      "Name: goal, dtype: object\n"
     ]
    }
   ],
   "source": [
    "# define JIRA API connection\n",
    "jira = JIRA('https://kmooon.atlassian.net/', basic_auth=('mario.weil@kmon.net', '5CtrPNrzUITJMq0bOIT37A8A'))\n",
    "# create a key/value data structure, where the key (int) is the board numer and the value is the board name\n",
    "#board_dict = {49: 'k.ey', 22: 'Dashboard', 32: 'IAM', 38: 'Argus', 52: 'Cloud'}\n",
    "board_dict = {49: 'k.ey', 22: 'Dashboard', 32: 'IAM', 52: 'Cloud'}\n",
    "# iterate the keys from board_dict and request the sprints from the JIRA API for the respective key\n",
    "sprints = ()\n",
    "df = pd.DataFrame()\n",
    "for key in board_dict:\n",
    "    board = board_dict[key]\n",
    "    sprints = jira.sprints(key)\n",
    "    # until sprints contains less than 50 entries, proceed requesting the next springs\n",
    "    while len(sprints) <= 50 & len(sprints) > 0:\n",
    "        sprints = sprints + jira.sprints(key, maxResults=100, startAt=len(sprints)+1)\n",
    "        # add the board name to the sprint object\n",
    "    for sprint in sprints:\n",
    "        sprint.board = board_dict[key]\n",
    "\n",
    "    # create a dataframe where the column names are the sprint attributes\n",
    "    df = pd.DataFrame(columns=sprints[0].raw.keys())\n",
    "\n",
    "    # iterate over sprints[0].raw.keys() and add the respective values to the dataframe\n",
    "    for key in sprints[0].raw.keys():\n",
    "        # try and except is necessary, because some attributes are not available for all sprints\n",
    "        try:\n",
    "            df[key] = [sprint.raw[key] for sprint in sprints]\n",
    "        except:\n",
    "            df[key] = np.nan\n",
    "    # from the dataframe, print all goals of the sprints, where startDate is 2022-01-01 and 2022-3-31 as a table\n",
    "    print(board)\n",
    "    print(df[(df['startDate'] >= '2022-06-30') & (df['startDate'] <= '2022-09-30')]['goal'])\n",
    "\n",
    "\n",
    "\n",
    "\n",
    "\n",
    "\n"
   ]
  }
 ],
 "metadata": {
  "kernelspec": {
   "display_name": "Python 3.8.9 ('.venv': venv)",
   "language": "python",
   "name": "python3"
  },
  "language_info": {
   "codemirror_mode": {
    "name": "ipython",
    "version": 3
   },
   "file_extension": ".py",
   "mimetype": "text/x-python",
   "name": "python",
   "nbconvert_exporter": "python",
   "pygments_lexer": "ipython3",
   "version": "3.9.6"
  },
  "orig_nbformat": 4,
  "vscode": {
   "interpreter": {
    "hash": "7196426dec0cd0c254246f6496bbad880bb1adc22d707ff952a81bd502ebe41d"
   }
  }
 },
 "nbformat": 4,
 "nbformat_minor": 2
}
