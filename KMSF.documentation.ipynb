{
 "cells": [
  {
   "cell_type": "markdown",
   "metadata": {},
   "source": [
    "# Read input from Excel\n",
    "The excel file 'DataMappings.xlsx' (sheet: DataMappings) contains the following columns:\n",
    "- SpecIF Property\n",
    "- MDS to SpecIF Mapping\n",
    "\n",
    "'SpecIF Property' has the property name as it is in the SpecIF together with its namespace.\n",
    "'MDS to SpecIF Mapping' has the code to read the property's value from MDS and to convert it."
   ]
  },
  {
   "cell_type": "code",
   "execution_count": 7,
   "metadata": {},
   "outputs": [],
   "source": [
    "# first import numpy, pandas, and matplotlib\n",
    "import numpy as np\n",
    "import pandas as pd\n",
    "import matplotlib.pyplot as plt\n",
    "import re"
   ]
  },
  {
   "cell_type": "code",
   "execution_count": 9,
   "metadata": {},
   "outputs": [],
   "source": [
    "# import the first two columns from file 'DataMappings.xlsx' into a dataframe\n",
    "df = pd.read_excel('DataMappings.xlsx', sheet_name='DataMappings', usecols=[0, 1])"
   ]
  },
  {
   "cell_type": "code",
   "execution_count": 19,
   "metadata": {},
   "outputs": [
    {
     "ename": "AttributeError",
     "evalue": "'NoneType' object has no attribute 'group'",
     "output_type": "error",
     "traceback": [
      "\u001b[0;31m---------------------------------------------------------------------------\u001b[0m",
      "\u001b[0;31mAttributeError\u001b[0m                            Traceback (most recent call last)",
      "\u001b[1;32m/Users/weile/Projects/jupyter-notebooks/KMSF.documentation.ipynb Cell 4\u001b[0m in \u001b[0;36m<module>\u001b[0;34m\u001b[0m\n\u001b[1;32m      <a href='vscode-notebook-cell:/Users/weile/Projects/jupyter-notebooks/KMSF.documentation.ipynb#ch0000003?line=6'>7</a>\u001b[0m match \u001b[39m=\u001b[39m re\u001b[39m.\u001b[39mmatch(regex, s)\n\u001b[1;32m      <a href='vscode-notebook-cell:/Users/weile/Projects/jupyter-notebooks/KMSF.documentation.ipynb#ch0000003?line=7'>8</a>\u001b[0m \u001b[39m# use the group method to extract the value of the first group from the match object\u001b[39;00m\n\u001b[0;32m----> <a href='vscode-notebook-cell:/Users/weile/Projects/jupyter-notebooks/KMSF.documentation.ipynb#ch0000003?line=8'>9</a>\u001b[0m value \u001b[39m=\u001b[39m match\u001b[39m.\u001b[39;49mgroup(\u001b[39m1\u001b[39m)\n\u001b[1;32m     <a href='vscode-notebook-cell:/Users/weile/Projects/jupyter-notebooks/KMSF.documentation.ipynb#ch0000003?line=9'>10</a>\u001b[0m \u001b[39m# print the value\u001b[39;00m\n\u001b[1;32m     <a href='vscode-notebook-cell:/Users/weile/Projects/jupyter-notebooks/KMSF.documentation.ipynb#ch0000003?line=10'>11</a>\u001b[0m \u001b[39mprint\u001b[39m(value)\n",
      "\u001b[0;31mAttributeError\u001b[0m: 'NoneType' object has no attribute 'group'"
     ]
    }
   ],
   "source": [
    "#let s be the value of the column 'MDS to SpecIF Mapping' of the first row from df\n",
    "s = df.iloc[0, 1]\n",
    "# define a regular expression which matches a string 'MDS\\(\".+\"\\)'\n",
    "regex = re.compile(r'/.*(MDS(\".+\")).*/g')\n",
    "#regex = '.*MDS\\(.+\\).*'\n",
    "# use the re module to match the regular expression to the string s\n",
    "match = re.match(regex, s)\n",
    "# use the group method to extract the value of the first group from the match object\n",
    "value = match.group(1)\n",
    "# print the value\n",
    "print(value)\n",
    "\n",
    "#extract the substring 'MDS\\(\"FB-0005\"\\)' from the string s\n",
    "s1 = s[s.find('MDS(\"BM-0014\"'):s.find('MDS(\"BM-0014\"')+len('MDS(\"BM-0014\")')]\n"
   ]
  }
 ],
 "metadata": {
  "kernelspec": {
   "display_name": "Python 3.8.9 ('.venv': venv)",
   "language": "python",
   "name": "python3"
  },
  "language_info": {
   "codemirror_mode": {
    "name": "ipython",
    "version": 3
   },
   "file_extension": ".py",
   "mimetype": "text/x-python",
   "name": "python",
   "nbconvert_exporter": "python",
   "pygments_lexer": "ipython3",
   "version": "3.8.9"
  },
  "orig_nbformat": 4,
  "vscode": {
   "interpreter": {
    "hash": "7196426dec0cd0c254246f6496bbad880bb1adc22d707ff952a81bd502ebe41d"
   }
  }
 },
 "nbformat": 4,
 "nbformat_minor": 2
}
